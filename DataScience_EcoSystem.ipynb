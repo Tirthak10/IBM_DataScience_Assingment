{
 "cells": [
  {
   "cell_type": "markdown",
   "id": "352e7fa2-6d9a-4159-a2f2-14a7f59acb1b",
   "metadata": {},
   "source": [
    "# Tools For Data Science "
   ]
  },
  {
   "cell_type": "markdown",
   "id": "fb553de8-a9c2-48f7-9e31-5f08acf9804a",
   "metadata": {},
   "source": [
    "We will be submitting our final assingment for the coursera Course named Tools for Datascience"
   ]
  },
  {
   "cell_type": "markdown",
   "id": "a4a9dc9b-8e78-4886-9fec-81dfddad49e7",
   "metadata": {},
   "source": [
    "Below Listed are some of the popular languages that the DataScientist Use :\n",
    "1. Python\n",
    "2. R\n",
    "3. SQL\n",
    "4. C++\n",
    "5. Java"
   ]
  },
  {
   "cell_type": "markdown",
   "id": "6ffcdd65-a2a5-4fa8-9bf9-a4e382bbc750",
   "metadata": {},
   "source": [
    "Below Listed are some of the libraries that the DataScientist Uses which includes :\n",
    "1. TensorFlow \n",
    "2. Numpy\n",
    "3. Scipy\n",
    "4. Pandas\n",
    "5. Matplotlib\n",
    "6. keras\n",
    "7. SciKit-Learn\n",
    "8. PyTorch\n"
   ]
  },
  {
   "cell_type": "markdown",
   "id": "d1f6139c-74f3-4152-9b56-edadd3fc8480",
   "metadata": {},
   "source": [
    "|Data Science Tools|\n",
    "|---|\n",
    "|SAS|\n",
    "|Apache Hadoop|\n",
    "|TensorFlow|"
   ]
  },
  {
   "cell_type": "markdown",
   "id": "04acba26-4889-4640-8fed-fcdffb465cd8",
   "metadata": {},
   "source": [
    "# Below are some examples of evaluating arithmatic expression in Python"
   ]
  },
  {
   "cell_type": "code",
   "execution_count": 10,
   "id": "36cc35c1-e08c-4886-a32a-b3b2ecba1503",
   "metadata": {},
   "outputs": [
    {
     "data": {
      "text/plain": [
       "27"
      ]
     },
     "execution_count": 10,
     "metadata": {},
     "output_type": "execute_result"
    }
   ],
   "source": [
    "# This is a common example to multiply add integers\n",
    "(5*4)+7\n"
   ]
  },
  {
   "cell_type": "code",
   "execution_count": 11,
   "id": "42eab23f-df68-41ce-a467-19b52efc781f",
   "metadata": {
    "collapsed": true,
    "jupyter": {
     "outputs_hidden": true
    }
   },
   "outputs": [
    {
     "data": {
      "text/plain": [
       "3.3333333333333335"
      ]
     },
     "execution_count": 11,
     "metadata": {},
     "output_type": "execute_result"
    }
   ],
   "source": [
    "#This Will convert 300 minutes to hours by dividing by 60\n",
    "200/60"
   ]
  },
  {
   "cell_type": "markdown",
   "id": "cfabe858-8ca0-4b4f-b3cf-c4f77d4e2e2e",
   "metadata": {},
   "source": [
    "__Objective__\n",
    "* List popular launguages for DataScience\n",
    "* List popular libraries for Data Science \n",
    "* List of Well known Data Science Tools\n",
    "* How to provide comment in the cell               "
   ]
  },
  {
   "cell_type": "markdown",
   "id": "478934b0-342e-4075-af46-fbf25cf525b3",
   "metadata": {},
   "source": [
    "## Author\n",
    "Tirthak Likhar "
   ]
  }
 ],
 "metadata": {
  "kernelspec": {
   "display_name": "Python 3 (ipykernel)",
   "language": "python",
   "name": "python3"
  },
  "language_info": {
   "codemirror_mode": {
    "name": "ipython",
    "version": 3
   },
   "file_extension": ".py",
   "mimetype": "text/x-python",
   "name": "python",
   "nbconvert_exporter": "python",
   "pygments_lexer": "ipython3",
   "version": "3.12.4"
  }
 },
 "nbformat": 4,
 "nbformat_minor": 5
}
